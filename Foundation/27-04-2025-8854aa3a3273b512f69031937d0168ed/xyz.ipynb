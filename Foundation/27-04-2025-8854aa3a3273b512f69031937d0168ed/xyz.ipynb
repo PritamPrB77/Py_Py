{
 "cells": [
  {
   "cell_type": "code",
   "execution_count": 1,
   "id": "8687a83c",
   "metadata": {},
   "outputs": [],
   "source": [
    "def greet(s):\n",
    "    print(\"Hello, \" + s + \"!\")\n"
   ]
  },
  {
   "cell_type": "code",
   "execution_count": 2,
   "id": "4636622c",
   "metadata": {},
   "outputs": [
    {
     "name": "stdout",
     "output_type": "stream",
     "text": [
      "Hello, World!\n"
     ]
    }
   ],
   "source": [
    "greet(\"World\")"
   ]
  }
 ],
 "metadata": {
  "kernelspec": {
   "display_name": "base",
   "language": "python",
   "name": "python3"
  },
  "language_info": {
   "codemirror_mode": {
    "name": "ipython",
    "version": 3
   },
   "file_extension": ".py",
   "mimetype": "text/x-python",
   "name": "python",
   "nbconvert_exporter": "python",
   "pygments_lexer": "ipython3",
   "version": "3.12.7"
  }
 },
 "nbformat": 4,
 "nbformat_minor": 5
}
