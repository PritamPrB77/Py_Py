{
 "cells": [
  {
   "cell_type": "markdown",
   "id": "56b6a769",
   "metadata": {},
   "source": [
    "# OOP (Classes and objects intro)"
   ]
  },
  {
   "cell_type": "code",
   "execution_count": 6,
   "id": "5c1438b0",
   "metadata": {},
   "outputs": [],
   "source": [
    "a = 2\n",
    "\n",
    "def add(a,b):\n",
    "    c = a+b\n",
    "    print(c)"
   ]
  },
  {
   "cell_type": "code",
   "execution_count": 7,
   "id": "7d538bf2",
   "metadata": {},
   "outputs": [
    {
     "name": "stdout",
     "output_type": "stream",
     "text": [
      "8\n"
     ]
    }
   ],
   "source": [
    "add(1,7)"
   ]
  },
  {
   "cell_type": "code",
   "execution_count": 8,
   "id": "c0eb96ee",
   "metadata": {},
   "outputs": [],
   "source": [
    "# Car\n",
    "# - customer name\n",
    "# - brand -->\n",
    "# - color -> \n",
    "# - type -> sedan, hatchback, SUV\n",
    "\n",
    "class Car():\n",
    "\n",
    "    def customer_name(self, name):\n",
    "        print(name)\n",
    "\n",
    "    def brand(self, brand):\n",
    "        print(brand)\n",
    "\n",
    "    def color(self, color):\n",
    "        print(color)\n",
    "\n",
    "    def customer_name(self, type_of_car):\n",
    "        print(type_of_car)"
   ]
  },
  {
   "cell_type": "code",
   "execution_count": 9,
   "id": "ce9d4543",
   "metadata": {},
   "outputs": [],
   "source": [
    "car_var = Car()"
   ]
  },
  {
   "cell_type": "code",
   "execution_count": 10,
   "id": "126f86a2",
   "metadata": {},
   "outputs": [
    {
     "data": {
      "text/plain": [
       "2480442437952"
      ]
     },
     "execution_count": 10,
     "metadata": {},
     "output_type": "execute_result"
    }
   ],
   "source": [
    "id(car_var)"
   ]
  },
  {
   "cell_type": "code",
   "execution_count": 11,
   "id": "a0b659f3",
   "metadata": {},
   "outputs": [
    {
     "name": "stdout",
     "output_type": "stream",
     "text": [
      "monal\n"
     ]
    }
   ],
   "source": [
    "car_var.customer_name(\"monal\")"
   ]
  },
  {
   "cell_type": "code",
   "execution_count": 12,
   "id": "ecb874b4",
   "metadata": {},
   "outputs": [
    {
     "name": "stdout",
     "output_type": "stream",
     "text": [
      "hello\n"
     ]
    }
   ],
   "source": [
    "car_var_2 = Car()\n",
    "car_var_2.customer_name(\"hello\")"
   ]
  },
  {
   "cell_type": "code",
   "execution_count": 13,
   "id": "c127be41",
   "metadata": {},
   "outputs": [],
   "source": [
    "class Mobile():\n",
    "\n",
    "    def __init__(self, a, b, c):\n",
    "        self.manufacturer_name = a\n",
    "        self.os_version = b\n",
    "        self.customer_name = c\n",
    "\n",
    "    def get_customer_name(self):\n",
    "        print(self.customer_name)"
   ]
  },
  {
   "cell_type": "code",
   "execution_count": 14,
   "id": "59080551",
   "metadata": {},
   "outputs": [],
   "source": [
    "customer_1 = Mobile(\"Apple\", \"ios\", \"monal\")\n",
    "customer_2 = Mobile(\"Apple\", \"ios\", \"Akash\")\n",
    "customer_3 = Mobile(\"Apple\", \"ios\", \"alok\")"
   ]
  },
  {
   "cell_type": "code",
   "execution_count": 15,
   "id": "ef974d2b",
   "metadata": {},
   "outputs": [
    {
     "name": "stdout",
     "output_type": "stream",
     "text": [
      "monal\n"
     ]
    }
   ],
   "source": [
    "customer_1.get_customer_name()"
   ]
  },
  {
   "cell_type": "code",
   "execution_count": 16,
   "id": "46fdc700",
   "metadata": {},
   "outputs": [
    {
     "data": {
      "text/plain": [
       "'Apple'"
      ]
     },
     "execution_count": 16,
     "metadata": {},
     "output_type": "execute_result"
    }
   ],
   "source": [
    "customer_1.manufacturer_name"
   ]
  },
  {
   "cell_type": "code",
   "execution_count": 17,
   "id": "c09b47fd",
   "metadata": {},
   "outputs": [
    {
     "name": "stdout",
     "output_type": "stream",
     "text": [
      "Akash\n"
     ]
    }
   ],
   "source": [
    "customer_2.get_customer_name()"
   ]
  },
  {
   "cell_type": "code",
   "execution_count": 18,
   "id": "76e189fd",
   "metadata": {},
   "outputs": [
    {
     "name": "stdout",
     "output_type": "stream",
     "text": [
      "alok\n"
     ]
    }
   ],
   "source": [
    "customer_3.get_customer_name()"
   ]
  },
  {
   "cell_type": "code",
   "execution_count": 19,
   "id": "dabaf0ff",
   "metadata": {},
   "outputs": [],
   "source": [
    "import os"
   ]
  },
  {
   "cell_type": "code",
   "execution_count": 20,
   "id": "e5a59ec1",
   "metadata": {},
   "outputs": [
    {
     "data": {
      "text/plain": [
       "'c:\\\\Users\\\\Pritam\\\\Downloads\\\\27-04-2025-8854aa3a3273b512f69031937d0168ed'"
      ]
     },
     "execution_count": 20,
     "metadata": {},
     "output_type": "execute_result"
    }
   ],
   "source": [
    "os.getcwd()"
   ]
  },
  {
   "cell_type": "code",
   "execution_count": null,
   "id": "79a0eee9",
   "metadata": {},
   "outputs": [],
   "source": []
  }
 ],
 "metadata": {
  "kernelspec": {
   "display_name": "base",
   "language": "python",
   "name": "python3"
  },
  "language_info": {
   "codemirror_mode": {
    "name": "ipython",
    "version": 3
   },
   "file_extension": ".py",
   "mimetype": "text/x-python",
   "name": "python",
   "nbconvert_exporter": "python",
   "pygments_lexer": "ipython3",
   "version": "3.12.7"
  }
 },
 "nbformat": 4,
 "nbformat_minor": 5
}
