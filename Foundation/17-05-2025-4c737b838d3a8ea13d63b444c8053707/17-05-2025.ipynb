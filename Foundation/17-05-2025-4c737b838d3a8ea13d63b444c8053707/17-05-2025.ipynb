{
 "cells": [
  {
   "cell_type": "markdown",
   "id": "124f6dd4",
   "metadata": {},
   "source": [
    "# Without Threading"
   ]
  },
  {
   "cell_type": "code",
   "execution_count": 2,
   "id": "65bc43a2",
   "metadata": {},
   "outputs": [],
   "source": [
    "import requests\n",
    "import time"
   ]
  },
  {
   "cell_type": "code",
   "execution_count": 3,
   "id": "20f83b9b",
   "metadata": {},
   "outputs": [],
   "source": [
    "url = \"https://raw.githubusercontent.com/Monalsingh/VideoBroadcaster/refs/heads/main/static/default-office-animated.png\""
   ]
  },
  {
   "cell_type": "code",
   "execution_count": 5,
   "id": "afdcab93",
   "metadata": {},
   "outputs": [],
   "source": [
    "def download_file(process_name, url, file_path):\n",
    "    try:\n",
    "        print(f\"Download process name started : {process_name}\")\n",
    "        response = requests.get(url)\n",
    "        print(response)\n",
    "        with open(file_path, \"wb\") as file:\n",
    "            for chunk in response.iter_content(chunk_size=8192):\n",
    "                if chunk:\n",
    "                    # print(chunk)\n",
    "                    file.write(chunk)\n",
    "        print(\"File downloaded successfully\")\n",
    "    except Exception as e :\n",
    "        print(f\"Error downloading file : {e}\")\n",
    "    print(f\"Process name completed : {process_name}\")"
   ]
  },
  {
   "cell_type": "code",
   "execution_count": 6,
   "id": "8c3a8bae",
   "metadata": {},
   "outputs": [
    {
     "name": "stdout",
     "output_type": "stream",
     "text": [
      "Download process name started : Download without thread 1\n",
      "<Response [200]>\n",
      "File downloaded successfully\n",
      "Process name completed : Download without thread 1\n",
      "Download process name started : Download without thread 2\n",
      "<Response [200]>\n",
      "File downloaded successfully\n",
      "Process name completed : Download without thread 2\n",
      "Download process name started : Download without thread 3\n",
      "<Response [200]>\n",
      "File downloaded successfully\n",
      "Process name completed : Download without thread 3\n",
      "Time taken(seconds) : 30.42646074295044\n"
     ]
    }
   ],
   "source": [
    "t1 = time.time()\n",
    "download_file(\"Download without thread 1\", url, \"a.png\")\n",
    "download_file(\"Download without thread 2\", url, \"b.png\")\n",
    "download_file(\"Download without thread 3\", url, \"c.png\")\n",
    "t2 = time.time()\n",
    "print(f\"Time taken(seconds) : {t2-t1}\")"
   ]
  },
  {
   "cell_type": "markdown",
   "id": "26e639d3",
   "metadata": {},
   "source": [
    "# With Threading"
   ]
  },
  {
   "cell_type": "code",
   "execution_count": 7,
   "id": "e2de95d6",
   "metadata": {},
   "outputs": [],
   "source": [
    "import threading"
   ]
  },
  {
   "cell_type": "code",
   "execution_count": 8,
   "id": "82cd0592",
   "metadata": {},
   "outputs": [],
   "source": [
    "t3 = threading.Thread(target=download_file, args=(\"Download with thread 1\", url, \"a1.png\"))\n",
    "t4 = threading.Thread(target=download_file, args=(\"Download with thread 2\", url, \"b1.png\"))\n",
    "t5 = threading.Thread(target=download_file, args=(\"Download with thread 3\", url, \"c1.png\"))"
   ]
  },
  {
   "cell_type": "markdown",
   "id": "0bcf833c",
   "metadata": {},
   "source": [
    "# thread.start()"
   ]
  },
  {
   "cell_type": "code",
   "execution_count": null,
   "id": "f9a45767",
   "metadata": {},
   "outputs": [
    {
     "ename": "RuntimeError",
     "evalue": "threads can only be started once",
     "output_type": "error",
     "traceback": [
      "\u001b[1;31m---------------------------------------------------------------------------\u001b[0m",
      "\u001b[1;31mRuntimeError\u001b[0m                              Traceback (most recent call last)",
      "Cell \u001b[1;32mIn[9], line 2\u001b[0m\n\u001b[0;32m      1\u001b[0m t1_t \u001b[38;5;241m=\u001b[39m time\u001b[38;5;241m.\u001b[39mtime()\n\u001b[1;32m----> 2\u001b[0m t3\u001b[38;5;241m.\u001b[39mstart()\n\u001b[0;32m      3\u001b[0m t4\u001b[38;5;241m.\u001b[39mstart()\n\u001b[0;32m      4\u001b[0m t5\u001b[38;5;241m.\u001b[39mstart()\n",
      "File \u001b[1;32md:\\python\\Anaconda\\Lib\\threading.py:989\u001b[0m, in \u001b[0;36mThread.start\u001b[1;34m(self)\u001b[0m\n\u001b[0;32m    986\u001b[0m     \u001b[38;5;28;01mraise\u001b[39;00m \u001b[38;5;167;01mRuntimeError\u001b[39;00m(\u001b[38;5;124m\"\u001b[39m\u001b[38;5;124mthread.__init__() not called\u001b[39m\u001b[38;5;124m\"\u001b[39m)\n\u001b[0;32m    988\u001b[0m \u001b[38;5;28;01mif\u001b[39;00m \u001b[38;5;28mself\u001b[39m\u001b[38;5;241m.\u001b[39m_started\u001b[38;5;241m.\u001b[39mis_set():\n\u001b[1;32m--> 989\u001b[0m     \u001b[38;5;28;01mraise\u001b[39;00m \u001b[38;5;167;01mRuntimeError\u001b[39;00m(\u001b[38;5;124m\"\u001b[39m\u001b[38;5;124mthreads can only be started once\u001b[39m\u001b[38;5;124m\"\u001b[39m)\n\u001b[0;32m    991\u001b[0m \u001b[38;5;28;01mwith\u001b[39;00m _active_limbo_lock:\n\u001b[0;32m    992\u001b[0m     _limbo[\u001b[38;5;28mself\u001b[39m] \u001b[38;5;241m=\u001b[39m \u001b[38;5;28mself\u001b[39m\n",
      "\u001b[1;31mRuntimeError\u001b[0m: threads can only be started once"
     ]
    }
   ],
   "source": [
    "\n",
    "\n",
    "t1_t = time.time()\n",
    "t3.start()\n",
    "t4.start()\n",
    "t5.start()\n",
    "\n",
    "print(\"Main program done!!\")\n",
    "t2_t = time.time()\n",
    "print(f\"Time taken(seconds) : {t2_t-t1_t}\");"
   ]
  },
  {
   "cell_type": "markdown",
   "id": "84c94626",
   "metadata": {},
   "source": [
    "# thread.join()"
   ]
  },
  {
   "cell_type": "code",
   "execution_count": 9,
   "id": "3dccbba8",
   "metadata": {},
   "outputs": [
    {
     "name": "stdout",
     "output_type": "stream",
     "text": [
      "Download process name started : Download with thread 1Download process name started : Download with thread 2\n",
      "\n",
      "Download process name started : Download with thread 3\n",
      "<Response [200]>\n",
      "File downloaded successfully\n",
      "Process name completed : Download with thread 1\n",
      "<Response [200]>\n",
      "File downloaded successfully\n",
      "Process name completed : Download with thread 2\n",
      "<Response [200]>\n",
      "File downloaded successfully\n",
      "Process name completed : Download with thread 3\n",
      "Main program done!!\n",
      "Time taken(seconds) : 38.332746505737305\n"
     ]
    }
   ],
   "source": [
    "t1_t = time.time()\n",
    "t3.start()\n",
    "t4.start()\n",
    "t5.start()\n",
    "\n",
    "t3.join()\n",
    "t4.join()\n",
    "t5.join()\n",
    "\n",
    "print(\"Main program done!!\")\n",
    "t2_t = time.time()\n",
    "print(f\"Time taken(seconds) : {t2_t-t1_t}\")"
   ]
  },
  {
   "cell_type": "code",
   "execution_count": null,
   "id": "310d31d5",
   "metadata": {},
   "outputs": [],
   "source": []
  }
 ],
 "metadata": {
  "kernelspec": {
   "display_name": "base",
   "language": "python",
   "name": "python3"
  },
  "language_info": {
   "codemirror_mode": {
    "name": "ipython",
    "version": 3
   },
   "file_extension": ".py",
   "mimetype": "text/x-python",
   "name": "python",
   "nbconvert_exporter": "python",
   "pygments_lexer": "ipython3",
   "version": "3.12.7"
  }
 },
 "nbformat": 4,
 "nbformat_minor": 5
}
